{
 "cells": [
  {
   "cell_type": "markdown",
   "metadata": {},
   "source": [
    "# Imports"
   ]
  },
  {
   "cell_type": "code",
   "execution_count": 1,
   "metadata": {},
   "outputs": [],
   "source": [
    "\"\"\"\n",
    "Demo single-file notebook to train a ConvNet on CIFAR10 using SoftHebb, an unsupervised, efficient and bio-plausible learning algorithm.\n",
    "Based on demo.py from the official repo\n",
    "\"\"\"\n",
    "import math\n",
    "import warnings\n",
    "from tqdm.notebook import tqdm\n",
    "import datetime\n",
    "from pathlib import Path\n",
    "from copy import deepcopy\n",
    "from collections import OrderedDict\n",
    "import matplotlib.pyplot as plt\n",
    "from IPython.display import display, clear_output\n",
    "import random\n",
    "\n",
    "import numpy as np\n",
    "\n",
    "\n",
    "import torch\n",
    "from torch import nn, optim\n",
    "import torch.nn.functional as F\n",
    "from torch.nn.modules.utils import _pair\n",
    "from torch.optim.lr_scheduler import StepLR\n",
    "import torchvision\n",
    "\n",
    "def seed_init_fn(seed):\n",
    "    seed = seed % 2 ** 32\n",
    "    np.random.seed(seed)\n",
    "    random.seed(seed)\n",
    "    torch.manual_seed(seed)\n",
    "\n",
    "# Device\n",
    "device = torch.device('cuda:0')"
   ]
  },
  {
   "cell_type": "markdown",
   "metadata": {},
   "source": [
    "# For Lateral Support"
   ]
  },
  {
   "cell_type": "code",
   "execution_count": 2,
   "metadata": {},
   "outputs": [],
   "source": [
    "def create_circular_mask_batched(h, w, centers, radii):\n",
    "    \"\"\"\n",
    "    Create circular masks for batched inputs using PyTorch tensors.\n",
    "    \n",
    "    Args:\n",
    "    - h: Height of the grid (or a tensor of heights for each batch).\n",
    "    - w: Width of the grid (or a tensor of widths for each batch).\n",
    "    - centers: A tensor of shape (batch_size, 2) representing the (y, x) center of the circle for each batch.\n",
    "               If None, defaults to the center of each grid.\n",
    "    - radii: A tensor of shape (batch_size,) representing the radius of the circle for each batch.\n",
    "             If None, defaults to the minimum distance from the center to the edges of each grid.\n",
    "    \n",
    "    Returns:\n",
    "    - A boolean mask (tensor) of shape (batch_size, h, w), where True represents points inside the circle.\n",
    "    \"\"\"\n",
    "    batch_size = centers.size(0)\n",
    "\n",
    "    # Ensure `h` and `w` are tensors if they are scalar inputs\n",
    "    if isinstance(h, int):\n",
    "        h = torch.tensor([h] * batch_size)\n",
    "    if isinstance(w, int):\n",
    "        w = torch.tensor([w] * batch_size)\n",
    "\n",
    "    # Create the grid for each batch (meshgrid for each image)\n",
    "    Y, X = torch.meshgrid([torch.arange(h.max()), torch.arange(w.max())], indexing='ij')\n",
    "    \n",
    "    # Expand X and Y to match batch size and grid size\n",
    "    X = X.unsqueeze(0).expand(batch_size, -1, -1).float().to(device=centers.device)\n",
    "    Y = Y.unsqueeze(0).expand(batch_size, -1, -1).float().to(device=centers.device)\n",
    "\n",
    "    # Calculate the distance of each point in the grid from the center of the circle\n",
    "    dist_from_center = torch.sqrt((X - centers[:, 1].unsqueeze(1).unsqueeze(2)) ** 2 + \n",
    "                                  (Y - centers[:, 0].unsqueeze(1).unsqueeze(2)) ** 2)\n",
    "\n",
    "    # Create a mask for each batch based on the radius\n",
    "    masks = dist_from_center <= radii.unsqueeze(1).unsqueeze(2)\n",
    "\n",
    "    return masks"
   ]
  },
  {
   "cell_type": "markdown",
   "metadata": {},
   "source": [
    "# Model architecture definition"
   ]
  },
  {
   "cell_type": "code",
   "execution_count": 3,
   "metadata": {},
   "outputs": [],
   "source": [
    "class SoftHebbLinear(nn.Module):\n",
    "    def __init__(\n",
    "            self,\n",
    "            in_channels: int,\n",
    "            out_channels: int,\n",
    "            t_invert: float = 12, # Invert of the temperature for softmax\n",
    "            # Lateral Support params\n",
    "            n_lateral_neighbors=0, # 0 - turn off lateral support\n",
    "            lateral_period=None, # None - turn off 2D\n",
    "            lateral_gain_coef=0, # 0 - no effect\n",
    "    ) -> None:\n",
    "        \"\"\"\n",
    "        This is the implementation of Linear layer trained with SoftHebb method.\n",
    "        The code is adapted and augmented from https://github.com/NeuromorphicComputing/SoftHebb/tree/main\n",
    "        \"\"\"\n",
    "        super(SoftHebbLinear, self).__init__()\n",
    "        self.in_channels = in_channels\n",
    "        self.out_channels = out_channels\n",
    "        weight_range = 14 / math.sqrt(in_channels)\n",
    "        self.weight = nn.Parameter(weight_range * torch.randn((out_channels, in_channels)))\n",
    "        self.t_invert = torch.tensor(t_invert)\n",
    "        # Lateral Support params\n",
    "        self.n_lateral_neighbors = n_lateral_neighbors\n",
    "        self.lateral_period = lateral_period\n",
    "        self.lateral_gain_coef = lateral_gain_coef\n",
    "\n",
    "    def forward(self, x):\n",
    "        weighted_input = F.linear(x, self.weight, None)\n",
    "\n",
    "        if self.training:\n",
    "            # Post-synaptic activation, for plastic update, is weighted input passed through a softmax.\n",
    "            # Non-winning neurons (those not with the highest activation) receive the negated post-synaptic activation.\n",
    "            batch_size, out_channels = weighted_input.shape\n",
    "            flat_weighted_inputs = weighted_input\n",
    "            # Compute the winner neuron for each batch element\n",
    "            flat_softwta_activs = torch.softmax(self.t_invert * flat_weighted_inputs, dim=1)\n",
    "            flat_softwta_activs = - flat_softwta_activs  # Turn all postsynaptic activations into anti-Hebbian\n",
    "            win_neurons = torch.argmax(flat_weighted_inputs, dim=1)  # winning neuron for each pixel in each input\n",
    "            competing_idx = torch.arange(flat_weighted_inputs.size(0))  # indices of all pixel-input elements\n",
    "            # Turn winner neurons' activations back to hebbian (pqlet - i.e. make positive, not anti-hebbian term)\n",
    "            flat_softwta_activs[:, win_neurons] = - flat_softwta_activs[:, win_neurons]\n",
    "\n",
    "            # Lateral Support\n",
    "            if self.n_lateral_neighbors > 0:\n",
    "                # 1D case\n",
    "                if self.lateral_period is None:\n",
    "                    # Vectorize the generation of indices for lateral neighbors\n",
    "                    # Range of neighbor offsets\n",
    "                    neighbors_range = torch.hstack(\n",
    "                        (torch.arange(-self.n_lateral_neighbors, 0, device=win_neurons.device),\n",
    "                        torch.arange(1, self.n_lateral_neighbors + 1, device=win_neurons.device))\n",
    "                    )\n",
    "                    # Create the neighbors for each neuron by adding the offsets\n",
    "                    ids_support = win_neurons.unsqueeze(1) + neighbors_range.unsqueeze(0)\n",
    "                    # Clip the resulting indices to be within valid range\n",
    "                    ids_support = torch.clip(ids_support, min=0, max=flat_softwta_activs.size(0) - 1).T\n",
    "                    # Set values\n",
    "                    flat_softwta_activs[:, ids_support] = \\\n",
    "                        + flat_softwta_activs[:, ids_support] \\\n",
    "                        - self.lateral_gain_coef * flat_softwta_activs[competing_idx, win_neurons].unsqueeze(1)\n",
    "                # 2D case\n",
    "                else:\n",
    "                    assert type(self.lateral_period)==int\n",
    "                    # Assume win_neurons are 1D indices of neurons, and n_lateral_period is the number of columns (width of 2D grid)\n",
    "                    n_rows = flat_softwta_activs.size(1) // self.lateral_period  # Total rows in the 2D grid\n",
    "                    # Convert winning neurons' 1D id to 2D\n",
    "                    centers_from_win = torch.stack((\n",
    "                        win_neurons.divide(self.lateral_period, rounding_mode='floor'),\n",
    "                        win_neurons.remainder(self.lateral_period),\n",
    "                    )).T\n",
    "                    # Get circular 2D masks - boolean only by now\n",
    "                    radii = self.n_lateral_neighbors * torch.ones(len(win_neurons), device=win_neurons.device)\n",
    "                    mask_lsupp = create_circular_mask_batched(n_rows, self.lateral_period, \n",
    "                                                                centers=centers_from_win, \n",
    "                                                                radii=radii\n",
    "                                                                )\n",
    "                    # Apply masks\n",
    "                    flat_softwta_activs = \\\n",
    "                        flat_softwta_activs \\\n",
    "                        - self.lateral_gain_coef * flat_softwta_activs[competing_idx, win_neurons].unsqueeze(1) * mask_lsupp.flatten(1)\n",
    "\n",
    "            softwta_activs = flat_softwta_activs\n",
    "            # ===== compute plastic update Δw = y*(x - u*w) = y*x - (y*u)*w =======================================\n",
    "            yx = torch.matmul(softwta_activs.T, x)\n",
    "\n",
    "            yu = torch.multiply(softwta_activs, weighted_input)\n",
    "            yu = torch.sum(yu.t(), dim=1).unsqueeze(1)\n",
    "            \n",
    "            delta_weight = yx - yu.view(-1, 1,) * self.weight\n",
    "            delta_weight.div_(torch.abs(delta_weight).amax() + 1e-30)  # Scale [min/max , 1]\n",
    "            self.weight.grad = delta_weight  # store in grad to be used with common optimizers\n",
    "\n",
    "        return weighted_input\n",
    "\n",
    "\n",
    "class ModelSoftHebb(nn.Module):\n",
    "    def __init__(self, in_channels, out_channels, t_invert, layer_kwargs=None):\n",
    "        super(ModelSoftHebb, self).__init__()\n",
    "        \n",
    "        self.in_channels = in_channels\n",
    "        self.out_channels = out_channels\n",
    "\n",
    "        if layer_kwargs is None:\n",
    "            layer_kwargs = {}\n",
    "        self.layer_kwargs = layer_kwargs \n",
    "        \n",
    "        self.bn1 = nn.BatchNorm1d(in_channels, affine=False)\n",
    "        self.ff1 = SoftHebbLinear(\n",
    "            in_channels=in_channels, \n",
    "            out_channels=out_channels, \n",
    "            t_invert=t_invert,\n",
    "            **self.layer_kwargs\n",
    "        ) \n",
    "\n",
    "    def forward(self, x):\n",
    "        out = self.ff1(self.bn1(x))\n",
    "        return out"
   ]
  },
  {
   "cell_type": "markdown",
   "metadata": {},
   "source": [
    "# Optimization definitions - Scheduler, Optimizer"
   ]
  },
  {
   "cell_type": "code",
   "execution_count": 4,
   "metadata": {},
   "outputs": [],
   "source": [
    "class TensorLRSGD(optim.SGD):\n",
    "    @torch.no_grad()\n",
    "    def step(self, closure=None):\n",
    "        \"\"\"Performs a single optimization step, using a non-scalar (tensor) learning rate.\n",
    "\n",
    "        Arguments:\n",
    "            closure (callable, optional): A closure that reevaluates the model\n",
    "                and returns the loss.\n",
    "        \"\"\"\n",
    "        loss = None\n",
    "        if closure is not None:\n",
    "            with torch.enable_grad():\n",
    "                loss = closure()\n",
    "\n",
    "        for group in self.param_groups:\n",
    "            weight_decay = group['weight_decay']\n",
    "            momentum = group['momentum']\n",
    "            dampening = group['dampening']\n",
    "            nesterov = group['nesterov']\n",
    "\n",
    "            for p in group['params']:\n",
    "                if p.grad is None:\n",
    "                    continue\n",
    "                d_p = p.grad\n",
    "                if weight_decay != 0:\n",
    "                    d_p = d_p.add(p, alpha=weight_decay)\n",
    "                if momentum != 0:\n",
    "                    param_state = self.state[p]\n",
    "                    if 'momentum_buffer' not in param_state:\n",
    "                        buf = param_state['momentum_buffer'] = torch.clone(d_p).detach()\n",
    "                    else:\n",
    "                        buf = param_state['momentum_buffer']\n",
    "                        buf.mul_(momentum).add_(d_p, alpha=1 - dampening)\n",
    "                    if nesterov:\n",
    "                        d_p = d_p.add(buf, alpha=momentum)\n",
    "                    else:\n",
    "                        d_p = buf\n",
    "\n",
    "                p.add_(-group['lr'] * d_p)\n",
    "        return loss"
   ]
  },
  {
   "cell_type": "markdown",
   "metadata": {},
   "source": [
    "# Dataset definition - CIFAR10"
   ]
  },
  {
   "cell_type": "code",
   "execution_count": 5,
   "metadata": {},
   "outputs": [],
   "source": [
    "class FastCIFAR10(torchvision.datasets.CIFAR10):\n",
    "    \"\"\"\n",
    "    Improves performance of training on CIFAR10 by removing the PIL interface and pre-loading on the GPU (2-3x speedup).\n",
    "\n",
    "    Taken from https://github.com/y0ast/pytorch-snippets/tree/main/fast_mnist\n",
    "    \"\"\"\n",
    "\n",
    "    def __init__(self, *args, **kwargs):\n",
    "        device = kwargs.pop('device', \"cpu\")\n",
    "        super().__init__(*args, **kwargs)\n",
    "\n",
    "        self.data = torch.tensor(self.data, dtype=torch.float, device=device).div_(255)\n",
    "        self.data = torch.movedim(self.data, -1, 1)  # -> set dim to: (batch, channels, height, width)\n",
    "        self.targets = torch.tensor(self.targets, device=device)\n",
    "\n",
    "    def __getitem__(self, index: int):\n",
    "        \"\"\"\n",
    "        Parameters\n",
    "        ----------\n",
    "        index : int\n",
    "            Index of the element to be returned\n",
    "\n",
    "        Returns\n",
    "        -------\n",
    "            tuple: (image, target) where target is the index of the target class\n",
    "        \"\"\"\n",
    "        img = self.data[index]\n",
    "        target = self.targets[index]\n",
    "\n",
    "        return img, target"
   ]
  },
  {
   "cell_type": "markdown",
   "metadata": {},
   "source": [
    "# Prepare model, optimizers, data"
   ]
  },
  {
   "cell_type": "code",
   "execution_count": 6,
   "metadata": {},
   "outputs": [
    {
     "name": "stdout",
     "output_type": "stream",
     "text": [
      "Files already downloaded and verified\n"
     ]
    }
   ],
   "source": [
    "# seed training \n",
    "seed_init_fn(42)\n",
    "\n",
    "# Layer kwargs\n",
    "layer_kwargs_2D = {\n",
    "    'n_lateral_neighbors':1,\n",
    "    'lateral_period':30,\n",
    "    'lateral_gain_coef':-0.3,\n",
    "}\n",
    "# Model \n",
    "model = ModelSoftHebb(\n",
    "    in_channels=3*32*32, \n",
    "    out_channels=450, \n",
    "    t_invert=300,\n",
    "    layer_kwargs=layer_kwargs_2D,\n",
    ")\n",
    "model.to(device)\n",
    "\n",
    "unsup_optimizer = TensorLRSGD([\n",
    "    # Basically just SGD despite the complicated class, becaouse of just 'lr' param\n",
    "    {\"params\": model.ff1.parameters(), \"lr\": -0.08, },  # SGD does descent, but we assign the positive updates, so set lr to negative\n",
    "], lr=0)\n",
    "\n",
    "# Datasets and dataloaders\n",
    "trainset = FastCIFAR10('./data', train=True, download=True)\n",
    "unsup_trainloader = torch.utils.data.DataLoader(trainset, batch_size=64, shuffle=True, num_workers=0, pin_memory=True)"
   ]
  },
  {
   "cell_type": "code",
   "execution_count": 7,
   "metadata": {},
   "outputs": [
    {
     "data": {
      "image/png": "[encoded data removed]",
      "text/plain": [
       "<Figure size 1500x600 with 10 Axes>"
      ]
     },
     "metadata": {},
     "output_type": "display_data"
    }
   ],
   "source": [
    "# Plot a few images\n",
    "import matplotlib.pyplot as plt\n",
    "\n",
    "# Plot 10 images in 2 rows\n",
    "fig, axs = plt.subplots(2, 5, figsize=(15, 6))\n",
    "for idx, ax in enumerate(axs.flatten()):\n",
    "    img, _ = trainset[idx]\n",
    "    img = img.permute(1, 2, 0)  # Change from (C, H, W) to (H, W, C)\n",
    "    ax.imshow(img)\n",
    "    ax.axis('off')\n",
    "\n",
    "plt.show()"
   ]
  },
  {
   "cell_type": "markdown",
   "metadata": {},
   "source": [
    "# Unsupervised training"
   ]
  },
  {
   "cell_type": "code",
   "execution_count": 8,
   "metadata": {},
   "outputs": [
    {
     "name": "stdout",
     "output_type": "stream",
     "text": [
      "20-36-15| Unsupervised Training - 1 epoch\n"
     ]
    },
    {
     "data": {
      "application/vnd.jupyter.widget-view+json": {
       "model_id": "5c3c2636a585482fac96f4212b19715d",
       "version_major": 2,
       "version_minor": 0
      },
      "text/plain": [
       "  0%|          | 0/782 [00:00<?, ?it/s]"
      ]
     },
     "metadata": {},
     "output_type": "display_data"
    },
    {
     "name": "stdout",
     "output_type": "stream",
     "text": [
      "20-36-22| End of Unsupervised Training - 1 epoch\n"
     ]
    }
   ],
   "source": [
    "n_epochs_unsup=1\n",
    "# Unsupervised training with SoftHebb\n",
    "print(f'{datetime.datetime.now().strftime(f\"%H-%M-%S\")}| Unsupervised Training - {n_epochs_unsup} epoch')\n",
    "\n",
    "dd_ker_vals = {'ff1':[]}\n",
    "\n",
    "for epoch in range(n_epochs_unsup):\n",
    "    running_loss = 0.0\n",
    "    for step, data in tqdm(enumerate(unsup_trainloader, 0), total=len(unsup_trainloader)):\n",
    "        global_step = (step+1 + epoch*len(unsup_trainloader))\n",
    "        \n",
    "        inputs, _ = data\n",
    "        inputs = inputs.flatten(1)\n",
    "        inputs = inputs.to(device)\n",
    "\n",
    "        # zero the parameter gradients\n",
    "        unsup_optimizer.zero_grad()\n",
    "\n",
    "        # forward + update computation\n",
    "        with torch.no_grad():\n",
    "            outputs = model(inputs)\n",
    "\n",
    "        # optimize\n",
    "        unsup_optimizer.step()\n",
    "                    \n",
    "        # save kernels for plots\n",
    "        ker_vals = deepcopy(model.ff1.weight.cpu().detach())\n",
    "        dd_ker_vals['ff1'].append(ker_vals)\n",
    "\n",
    "print(f'{datetime.datetime.now().strftime(f\"%H-%M-%S\")}| End of Unsupervised Training - {n_epochs_unsup} epoch')"
   ]
  },
  {
   "cell_type": "markdown",
   "metadata": {},
   "source": [
    "# Plot weights of the output neurons"
   ]
  },
  {
   "cell_type": "markdown",
   "metadata": {},
   "source": [
    "**Generating the animation below is memory-heavy !** "
   ]
  },
  {
   "cell_type": "code",
   "execution_count": null,
   "metadata": {
    "scrolled": false
   },
   "outputs": [],
   "source": [
    "import matplotlib.animation as animation\n",
    "from IPython.display import HTML\n",
    "import matplotlib\n",
    "import torchvision.utils as vutils\n",
    "matplotlib.rcParams['animation.embed_limit'] = 500 # MB\n",
    "\n",
    "weights_saved = dd_ker_vals['ff1']\n",
    "\n",
    "n_images= 450\n",
    "epoch_list_weights = ([(item_[np.arange(n_images)].view(-1,3,32,32)) for item_ in weights_saved[150::2]])\n",
    "\n",
    "plot_weights = []\n",
    "for list_weights in (epoch_list_weights):\n",
    "    plot_weights.append(vutils.make_grid(list_weights, nrow=layer_kwargs_2D['lateral_period'], padding=2, normalize=True))\n",
    "\n",
    "fig = plt.figure(figsize=(14, 6))\n",
    "plt.axis(\"off\")\n",
    "ims = [[plt.imshow(np.transpose(w_plot,(1,2,0)), animated=True)] for w_plot in (plot_weights[:])]\n",
    "ani = animation.ArtistAnimation(fig, ims, interval=1000, repeat_delay=1000, blit=True)\n",
    "\n",
    "HTML(ani.to_jshtml())"
   ]
  },
  {
   "cell_type": "markdown",
   "metadata": {},
   "source": [
    "# Save gif demonstration"
   ]
  },
  {
   "cell_type": "code",
   "execution_count": 14,
   "metadata": {},
   "outputs": [
    {
     "name": "stdout",
     "output_type": "stream",
     "text": [
      "Num images: 316\n"
     ]
    }
   ],
   "source": [
    "from PIL import Image\n",
    "\n",
    "ch, h, w = plot_weights[0].shape\n",
    "\n",
    "# Make a gif \n",
    "ims_gif = np.array( \\\n",
    "    [np.array(Image.fromarray( \\\n",
    "    (np.transpose(w_plot,(1,2,0)).numpy() * 255).astype(np.uint8)).resize(size=(int(w/1.8), int(h/1.8)), \\\n",
    "    resample=Image.Resampling.BILINEAR) \\\n",
    "        ) for w_plot in (plot_weights[:])])\n",
    "# import imageio\n",
    "# imageio.mimsave('ims_sup_cifar10.gif', ims_gif)\n",
    "print(f'Num images: {len(ims_gif)}')"
   ]
  },
  {
   "cell_type": "code",
   "execution_count": 16,
   "metadata": {},
   "outputs": [
    {
     "name": "stdout",
     "output_type": "stream",
     "text": [
      "GIF saved to image-pres\\training_ims.gif\n"
     ]
    }
   ],
   "source": [
    "import imageio\n",
    "import numpy as np\n",
    "\n",
    "# n_frames, h, w, ch = ims_gif.shape\n",
    "frames = ims_gif[70:-100,:int(h*0.8),:int(w/2),:]\n",
    "\n",
    "# Specify the output file path\n",
    "dir = Path('image-pres')\n",
    "dir.mkdir(exist_ok=True)\n",
    "output_file = dir / 'training_ims.gif'\n",
    "\n",
    "# Create a writer object\n",
    "with imageio.get_writer(output_file, mode='I', duration=8) as writer:\n",
    "    for frame in frames:\n",
    "        writer.append_data(frame)\n",
    "\n",
    "print(f\"GIF saved to {output_file}\")"
   ]
  }
 ],
 "metadata": {
  "kernelspec": {
   "display_name": "dls_nlp",
   "language": "python",
   "name": "dls_nlp"
  },
  "language_info": {
   "codemirror_mode": {
    "name": "ipython",
    "version": 3
   },
   "file_extension": ".py",
   "mimetype": "text/x-python",
   "name": "python",
   "nbconvert_exporter": "python",
   "pygments_lexer": "ipython3",
   "version": "3.9.13"
  }
 },
 "nbformat": 4,
 "nbformat_minor": 2
}
